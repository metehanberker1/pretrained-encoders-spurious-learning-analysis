{
 "cells": [
  {
   "cell_type": "code",
   "execution_count": 3,
   "id": "17c17ab6-71be-4e35-a4d2-1d90dfe58e45",
   "metadata": {},
   "outputs": [
    {
     "name": "stdout",
     "output_type": "stream",
     "text": [
      "Requirement already satisfied: datasets in /home/nathanhuey/miniforge3/envs/cs260d/lib/python3.13/site-packages (3.1.0)\n",
      "Requirement already satisfied: numpy in /home/nathanhuey/miniforge3/envs/cs260d/lib/python3.13/site-packages (2.1.3)\n",
      "Requirement already satisfied: transformers in /home/nathanhuey/miniforge3/envs/cs260d/lib/python3.13/site-packages (4.46.3)\n",
      "Requirement already satisfied: scikit-learn in /home/nathanhuey/miniforge3/envs/cs260d/lib/python3.13/site-packages (1.5.2)\n",
      "Requirement already satisfied: pandas in /home/nathanhuey/miniforge3/envs/cs260d/lib/python3.13/site-packages (2.2.3)\n",
      "Requirement already satisfied: duckdb in /home/nathanhuey/miniforge3/envs/cs260d/lib/python3.13/site-packages (1.1.3)\n",
      "Requirement already satisfied: matplotlib in /home/nathanhuey/miniforge3/envs/cs260d/lib/python3.13/site-packages (3.9.3)\n",
      "Requirement already satisfied: itables in /home/nathanhuey/miniforge3/envs/cs260d/lib/python3.13/site-packages (2.2.3)\n",
      "Requirement already satisfied: filelock in /home/nathanhuey/miniforge3/envs/cs260d/lib/python3.13/site-packages (from datasets) (3.16.1)\n",
      "Requirement already satisfied: pyarrow>=15.0.0 in /home/nathanhuey/miniforge3/envs/cs260d/lib/python3.13/site-packages (from datasets) (18.1.0)\n",
      "Requirement already satisfied: dill<0.3.9,>=0.3.0 in /home/nathanhuey/miniforge3/envs/cs260d/lib/python3.13/site-packages (from datasets) (0.3.8)\n",
      "Requirement already satisfied: requests>=2.32.2 in /home/nathanhuey/miniforge3/envs/cs260d/lib/python3.13/site-packages (from datasets) (2.32.3)\n",
      "Requirement already satisfied: tqdm>=4.66.3 in /home/nathanhuey/miniforge3/envs/cs260d/lib/python3.13/site-packages (from datasets) (4.67.1)\n",
      "Requirement already satisfied: xxhash in /home/nathanhuey/miniforge3/envs/cs260d/lib/python3.13/site-packages (from datasets) (3.5.0)\n",
      "Requirement already satisfied: multiprocess<0.70.17 in /home/nathanhuey/miniforge3/envs/cs260d/lib/python3.13/site-packages (from datasets) (0.70.16)\n",
      "Requirement already satisfied: fsspec<=2024.9.0,>=2023.1.0 in /home/nathanhuey/miniforge3/envs/cs260d/lib/python3.13/site-packages (from fsspec[http]<=2024.9.0,>=2023.1.0->datasets) (2024.9.0)\n",
      "Requirement already satisfied: aiohttp in /home/nathanhuey/miniforge3/envs/cs260d/lib/python3.13/site-packages (from datasets) (3.11.9)\n",
      "Requirement already satisfied: huggingface-hub>=0.23.0 in /home/nathanhuey/miniforge3/envs/cs260d/lib/python3.13/site-packages (from datasets) (0.26.3)\n",
      "Requirement already satisfied: packaging in /home/nathanhuey/miniforge3/envs/cs260d/lib/python3.13/site-packages (from datasets) (24.2)\n",
      "Requirement already satisfied: pyyaml>=5.1 in /home/nathanhuey/miniforge3/envs/cs260d/lib/python3.13/site-packages (from datasets) (6.0.2)\n",
      "Requirement already satisfied: regex!=2019.12.17 in /home/nathanhuey/miniforge3/envs/cs260d/lib/python3.13/site-packages (from transformers) (2024.11.6)\n",
      "Requirement already satisfied: tokenizers<0.21,>=0.20 in /home/nathanhuey/miniforge3/envs/cs260d/lib/python3.13/site-packages (from transformers) (0.20.3)\n",
      "Requirement already satisfied: safetensors>=0.4.1 in /home/nathanhuey/miniforge3/envs/cs260d/lib/python3.13/site-packages (from transformers) (0.4.5)\n",
      "Requirement already satisfied: scipy>=1.6.0 in /home/nathanhuey/miniforge3/envs/cs260d/lib/python3.13/site-packages (from scikit-learn) (1.14.1)\n",
      "Requirement already satisfied: joblib>=1.2.0 in /home/nathanhuey/miniforge3/envs/cs260d/lib/python3.13/site-packages (from scikit-learn) (1.4.2)\n",
      "Requirement already satisfied: threadpoolctl>=3.1.0 in /home/nathanhuey/miniforge3/envs/cs260d/lib/python3.13/site-packages (from scikit-learn) (3.5.0)\n",
      "Requirement already satisfied: python-dateutil>=2.8.2 in /home/nathanhuey/miniforge3/envs/cs260d/lib/python3.13/site-packages (from pandas) (2.9.0.post0)\n",
      "Requirement already satisfied: pytz>=2020.1 in /home/nathanhuey/miniforge3/envs/cs260d/lib/python3.13/site-packages (from pandas) (2024.2)\n",
      "Requirement already satisfied: tzdata>=2022.7 in /home/nathanhuey/miniforge3/envs/cs260d/lib/python3.13/site-packages (from pandas) (2024.2)\n",
      "Requirement already satisfied: contourpy>=1.0.1 in /home/nathanhuey/miniforge3/envs/cs260d/lib/python3.13/site-packages (from matplotlib) (1.3.1)\n",
      "Requirement already satisfied: cycler>=0.10 in /home/nathanhuey/miniforge3/envs/cs260d/lib/python3.13/site-packages (from matplotlib) (0.12.1)\n",
      "Requirement already satisfied: fonttools>=4.22.0 in /home/nathanhuey/miniforge3/envs/cs260d/lib/python3.13/site-packages (from matplotlib) (4.55.0)\n",
      "Requirement already satisfied: kiwisolver>=1.3.1 in /home/nathanhuey/miniforge3/envs/cs260d/lib/python3.13/site-packages (from matplotlib) (1.4.7)\n",
      "Requirement already satisfied: pillow>=8 in /home/nathanhuey/miniforge3/envs/cs260d/lib/python3.13/site-packages (from matplotlib) (11.0.0)\n",
      "Requirement already satisfied: pyparsing>=2.3.1 in /home/nathanhuey/miniforge3/envs/cs260d/lib/python3.13/site-packages (from matplotlib) (3.2.0)\n",
      "Requirement already satisfied: ipython in /home/nathanhuey/miniforge3/envs/cs260d/lib/python3.13/site-packages (from itables) (8.30.0)\n",
      "Requirement already satisfied: aiohappyeyeballs>=2.3.0 in /home/nathanhuey/miniforge3/envs/cs260d/lib/python3.13/site-packages (from aiohttp->datasets) (2.4.4)\n",
      "Requirement already satisfied: aiosignal>=1.1.2 in /home/nathanhuey/miniforge3/envs/cs260d/lib/python3.13/site-packages (from aiohttp->datasets) (1.3.1)\n",
      "Requirement already satisfied: attrs>=17.3.0 in /home/nathanhuey/miniforge3/envs/cs260d/lib/python3.13/site-packages (from aiohttp->datasets) (24.2.0)\n",
      "Requirement already satisfied: frozenlist>=1.1.1 in /home/nathanhuey/miniforge3/envs/cs260d/lib/python3.13/site-packages (from aiohttp->datasets) (1.5.0)\n",
      "Requirement already satisfied: multidict<7.0,>=4.5 in /home/nathanhuey/miniforge3/envs/cs260d/lib/python3.13/site-packages (from aiohttp->datasets) (6.1.0)\n",
      "Requirement already satisfied: propcache>=0.2.0 in /home/nathanhuey/miniforge3/envs/cs260d/lib/python3.13/site-packages (from aiohttp->datasets) (0.2.1)\n",
      "Requirement already satisfied: yarl<2.0,>=1.17.0 in /home/nathanhuey/miniforge3/envs/cs260d/lib/python3.13/site-packages (from aiohttp->datasets) (1.18.3)\n",
      "Requirement already satisfied: typing-extensions>=3.7.4.3 in /home/nathanhuey/miniforge3/envs/cs260d/lib/python3.13/site-packages (from huggingface-hub>=0.23.0->datasets) (4.12.2)\n",
      "Requirement already satisfied: six>=1.5 in /home/nathanhuey/miniforge3/envs/cs260d/lib/python3.13/site-packages (from python-dateutil>=2.8.2->pandas) (1.16.0)\n",
      "Requirement already satisfied: charset-normalizer<4,>=2 in /home/nathanhuey/miniforge3/envs/cs260d/lib/python3.13/site-packages (from requests>=2.32.2->datasets) (3.4.0)\n",
      "Requirement already satisfied: idna<4,>=2.5 in /home/nathanhuey/miniforge3/envs/cs260d/lib/python3.13/site-packages (from requests>=2.32.2->datasets) (3.10)\n",
      "Requirement already satisfied: urllib3<3,>=1.21.1 in /home/nathanhuey/miniforge3/envs/cs260d/lib/python3.13/site-packages (from requests>=2.32.2->datasets) (2.2.3)\n",
      "Requirement already satisfied: certifi>=2017.4.17 in /home/nathanhuey/miniforge3/envs/cs260d/lib/python3.13/site-packages (from requests>=2.32.2->datasets) (2024.8.30)\n",
      "Requirement already satisfied: decorator in /home/nathanhuey/miniforge3/envs/cs260d/lib/python3.13/site-packages (from ipython->itables) (5.1.1)\n",
      "Requirement already satisfied: jedi>=0.16 in /home/nathanhuey/miniforge3/envs/cs260d/lib/python3.13/site-packages (from ipython->itables) (0.19.2)\n",
      "Requirement already satisfied: matplotlib-inline in /home/nathanhuey/miniforge3/envs/cs260d/lib/python3.13/site-packages (from ipython->itables) (0.1.7)\n",
      "Requirement already satisfied: pexpect>4.3 in /home/nathanhuey/miniforge3/envs/cs260d/lib/python3.13/site-packages (from ipython->itables) (4.9.0)\n",
      "Requirement already satisfied: prompt_toolkit<3.1.0,>=3.0.41 in /home/nathanhuey/miniforge3/envs/cs260d/lib/python3.13/site-packages (from ipython->itables) (3.0.48)\n",
      "Requirement already satisfied: pygments>=2.4.0 in /home/nathanhuey/miniforge3/envs/cs260d/lib/python3.13/site-packages (from ipython->itables) (2.18.0)\n",
      "Requirement already satisfied: stack_data in /home/nathanhuey/miniforge3/envs/cs260d/lib/python3.13/site-packages (from ipython->itables) (0.6.2)\n",
      "Requirement already satisfied: traitlets>=5.13.0 in /home/nathanhuey/miniforge3/envs/cs260d/lib/python3.13/site-packages (from ipython->itables) (5.14.3)\n",
      "Requirement already satisfied: parso<0.9.0,>=0.8.4 in /home/nathanhuey/miniforge3/envs/cs260d/lib/python3.13/site-packages (from jedi>=0.16->ipython->itables) (0.8.4)\n",
      "Requirement already satisfied: ptyprocess>=0.5 in /home/nathanhuey/miniforge3/envs/cs260d/lib/python3.13/site-packages (from pexpect>4.3->ipython->itables) (0.7.0)\n",
      "Requirement already satisfied: wcwidth in /home/nathanhuey/miniforge3/envs/cs260d/lib/python3.13/site-packages (from prompt_toolkit<3.1.0,>=3.0.41->ipython->itables) (0.2.13)\n",
      "Requirement already satisfied: executing>=1.2.0 in /home/nathanhuey/miniforge3/envs/cs260d/lib/python3.13/site-packages (from stack_data->ipython->itables) (2.1.0)\n",
      "Requirement already satisfied: asttokens>=2.1.0 in /home/nathanhuey/miniforge3/envs/cs260d/lib/python3.13/site-packages (from stack_data->ipython->itables) (3.0.0)\n",
      "Requirement already satisfied: pure-eval in /home/nathanhuey/miniforge3/envs/cs260d/lib/python3.13/site-packages (from stack_data->ipython->itables) (0.2.3)\n"
     ]
    }
   ],
   "source": [
    "!pip install datasets numpy transformers scikit-learn numpy pandas duckdb matplotlib itables"
   ]
  },
  {
   "cell_type": "code",
   "execution_count": 4,
   "id": "4cd1f681-12c3-49a1-afd9-aa1d0786b1cf",
   "metadata": {},
   "outputs": [
    {
     "ename": "ModuleNotFoundError",
     "evalue": "No module named 'torch'",
     "output_type": "error",
     "traceback": [
      "\u001b[0;31m---------------------------------------------------------------------------\u001b[0m",
      "\u001b[0;31mModuleNotFoundError\u001b[0m                       Traceback (most recent call last)",
      "Cell \u001b[0;32mIn[4], line 12\u001b[0m\n\u001b[1;32m     10\u001b[0m \u001b[38;5;28;01mimport\u001b[39;00m \u001b[38;5;21;01mnumpy\u001b[39;00m \u001b[38;5;28;01mas\u001b[39;00m \u001b[38;5;21;01mnp\u001b[39;00m\n\u001b[1;32m     11\u001b[0m \u001b[38;5;28;01mimport\u001b[39;00m \u001b[38;5;21;01mpandas\u001b[39;00m \u001b[38;5;28;01mas\u001b[39;00m \u001b[38;5;21;01mpd\u001b[39;00m\n\u001b[0;32m---> 12\u001b[0m \u001b[38;5;28;01mimport\u001b[39;00m \u001b[38;5;21;01mtorch\u001b[39;00m\n\u001b[1;32m     13\u001b[0m \u001b[38;5;28;01mfrom\u001b[39;00m \u001b[38;5;21;01mdatasets\u001b[39;00m \u001b[38;5;28;01mimport\u001b[39;00m load_dataset\n\u001b[1;32m     14\u001b[0m \u001b[38;5;28;01mfrom\u001b[39;00m \u001b[38;5;21;01msklearn\u001b[39;00m\u001b[38;5;21;01m.\u001b[39;00m\u001b[38;5;21;01mmetrics\u001b[39;00m \u001b[38;5;28;01mimport\u001b[39;00m accuracy_score, precision_recall_fscore_support\n",
      "\u001b[0;31mModuleNotFoundError\u001b[0m: No module named 'torch'"
     ]
    }
   ],
   "source": [
    "import os\n",
    "from functools import partial\n",
    "from itables import show\n",
    "from itertools import chain\n",
    "from pathlib import Path\n",
    "from typing import Dict, List, Tuple\n",
    "\n",
    "import duckdb\n",
    "import matplotlib.pyplot as plt\n",
    "import numpy as np\n",
    "import pandas as pd\n",
    "import torch\n",
    "from datasets import load_dataset\n",
    "from sklearn.metrics import accuracy_score, precision_recall_fscore_support\n",
    "from transformers import (\n",
    "    pipeline,\n",
    "    AutoTokenizer,\n",
    "    AutoModelForSequenceClassification,\n",
    "    TrainingArguments,\n",
    "    TrainerCallback,\n",
    "    Trainer,\n",
    "    EvalPrediction\n",
    ")"
   ]
  },
  {
   "cell_type": "code",
   "execution_count": 5,
   "id": "4819cd54-37bc-4a8e-9e7b-4fd6dd6b478c",
   "metadata": {},
   "outputs": [
    {
     "name": "stdout",
     "output_type": "stream",
     "text": [
      "Using device: cuda\n"
     ]
    }
   ],
   "source": [
    "MODELS = {\n",
    "    \"bert\": [\n",
    "        \"lyeonii/bert-tiny\",\n",
    "        \"lyeonii/bert-small\",\n",
    "        \"lyeonii/bert-medium\",\n",
    "        \"google-bert/bert-base-uncased\",\n",
    "        \"google-bert/bert-large-uncased\"\n",
    "    ],\n",
    "    \"roberta\": [\n",
    "        \"smallbenchnlp/roberta-small\",\n",
    "        \"JackBAI/roberta-medium\",\n",
    "        \"FacebookAI/roberta-base\",\n",
    "        \"FacebookAI/roberta-large\"\n",
    "    ]\n",
    "}\n",
    "\n",
    "DATASETS = {\n",
    "    \"toxic_spans\": load_dataset(\"heegyu/toxic-spans\"),\n",
    "    \"cad\": load_dataset(\"BoringAnt1793/paired_sentiment_datasets\"),\n",
    "}\n",
    "\n",
    "\n",
    "def preprocess_function(examples, tokenizer):\n",
    "    return tokenizer(\n",
    "        examples[\"text_of_post\"],\n",
    "        truncation=True,\n",
    "        padding=\"max_length\",\n",
    "        max_length=256,\n",
    "        return_attention_mask=True,\n",
    "        return_tensors=None\n",
    "    )\n",
    "\n",
    "def preprocess_labels(examples):\n",
    "    examples[\"labels\"] = examples[\"toxic\"]\n",
    "    return examples\n",
    "\n",
    "device = torch.device(\"cuda\" if torch.cuda.is_available() else \"cpu\")\n",
    "print(f\"Using device: {device}\")"
   ]
  },
  {
   "cell_type": "code",
   "execution_count": 11,
   "id": "11a3d226-2cba-4403-8983-dc15062b2921",
   "metadata": {},
   "outputs": [],
   "source": [
    "def compute_metrics(eval_pred: EvalPrediction) -> Dict:\n",
    "    predictions, labels = eval_pred\n",
    "    predictions = np.argmax(predictions, axis=1)\n",
    "    \n",
    "    precision, recall, f1, _ = precision_recall_fscore_support(labels, predictions, average='binary')\n",
    "    accuracy = accuracy_score(labels, predictions)\n",
    "    \n",
    "    return {\n",
    "        'accuracy': accuracy,\n",
    "        'precision': precision,\n",
    "        'recall': recall,\n",
    "        'f1': f1\n",
    "    }\n",
    "\n",
    "class TrainingStatsCallback(TrainerCallback):\n",
    "    def __init__(self):\n",
    "        self.epoch_stats = []  # List to store stats\n",
    "    \n",
    "    def on_epoch_end(self, args, state, control, metrics=None, **kwargs):\n",
    "        # Metrics is a dictionary that contains the metrics for this epoch\n",
    "        # We can capture 'eval_loss', 'eval_accuracy', or any other metric computed\n",
    "        if metrics:\n",
    "            epoch_stat = {\n",
    "                'epoch': state.epoch,\n",
    "                'train_loss': metrics.get('train_loss', None),  # optional, if trainer logs train loss\n",
    "                'eval_loss': metrics.get('eval_loss', None),\n",
    "                'eval_accuracy': metrics.get('eval_accuracy', None),\n",
    "            }\n",
    "            self.epoch_stats.append(epoch_stat)\n",
    "        return control\n",
    "\n",
    "def train_and_evaluate_model(model_name: str, dataset_name: str) -> dict:\n",
    "    torch.cuda.empty_cache()\n",
    "\n",
    "    model = AutoModelForSequenceClassification.from_pretrained(\n",
    "        model_name,\n",
    "        num_labels=2,\n",
    "        torchscript=True\n",
    "    ).to(device)\n",
    "\n",
    "    tokenizer = AutoTokenizer.from_pretrained(\n",
    "        model_name,\n",
    "        model_max_length=256\n",
    "    )\n",
    "\n",
    "    tokenized_datasets = DATASETS[dataset_name].map(\n",
    "        partial(preprocess_function, tokenizer=tokenizer),\n",
    "        batched=True,\n",
    "        batch_size=1000,\n",
    "        num_proc=4\n",
    "    )\n",
    "\n",
    "    tokenized_datasets = tokenized_datasets.map(\n",
    "        preprocess_labels,\n",
    "        batched=True,\n",
    "        num_proc=4\n",
    "    )\n",
    "\n",
    "    columns_to_remove = [\n",
    "        \"text_of_post\", \"toxic\", \"probability\", \"position\",\n",
    "        \"type\", \"support\", \"position_probability\"\n",
    "    ]\n",
    "    tokenized_datasets = tokenized_datasets.remove_columns(columns_to_remove)\n",
    "    tokenized_datasets.set_format(\"torch\")\n",
    "\n",
    "    optimal_batch_size = 32\n",
    "    if torch.cuda.is_available():\n",
    "        gpu_memory = torch.cuda.get_device_properties(0).total_memory / (1024**3)\n",
    "        optimal_batch_size = int(min(32 * (gpu_memory / 8), 128))\n",
    "\n",
    "    output_dir = Path.cwd() / \"results\" / f\"{model_name.replace('/', '_')}_{dataset_name}\"\n",
    "    training_args = TrainingArguments(\n",
    "        output_dir=output_dir,\n",
    "        evaluation_strategy=\"epoch\",\n",
    "        save_strategy=\"epoch\",\n",
    "        learning_rate=1e-5,\n",
    "        per_device_train_batch_size=optimal_batch_size,\n",
    "        per_device_eval_batch_size=optimal_batch_size * 2,\n",
    "        num_train_epochs=10,\n",
    "        weight_decay=0.01,\n",
    "        logging_dir=f\"{output_dir}/logs\",\n",
    "        logging_steps=10,\n",
    "        save_total_limit=2,\n",
    "        fp16=torch.cuda.is_available(),\n",
    "        gradient_checkpointing=True,\n",
    "        dataloader_num_workers=4,\n",
    "        dataloader_pin_memory=True,\n",
    "    )\n",
    "\n",
    "    callback = TrainingStatsCallback()\n",
    "\n",
    "    trainer = Trainer(\n",
    "        model=model,\n",
    "        args=training_args,\n",
    "        train_dataset=tokenized_datasets[\"train\"],\n",
    "        eval_dataset=tokenized_datasets[\"test\"],\n",
    "        tokenizer=tokenizer,\n",
    "        compute_metrics=compute_metrics,\n",
    "        callbacks=[callback]\n",
    "    )\n",
    "\n",
    "    print(\"Starting training...\")\n",
    "    train_results = trainer.train()\n",
    "\n",
    "    print(\"Evaluating model...\")\n",
    "    eval_results = trainer.evaluate()\n",
    "\n",
    "    model.save_pretrained(\n",
    "        output_dir,\n",
    "        save_config=True,\n",
    "        safe_serialization=True  # Use safe serialization for better compatibility\n",
    "    )\n",
    "    tokenizer.save_pretrained(output_dir)\n",
    "    eval_results[\"model_name\"] = model_name\n",
    "    eval_results[\"dataset_name\"] = dataset_name\n",
    "    eval_stats = pd.DataFrame([eval_results])\n",
    "    eval_stats.to_parquet(Path(output_dir) / \"EvalStats.parquet\")\n",
    "\n",
    "    training_stats = pd.DataFrame(callback.epoch_stats)\n",
    "    training_stats[\"model_name\"] = model_name\n",
    "    training_stats[\"dataset_name\"] = dataset_name\n",
    "    training_stats.to_parquet(Path(output_dir) / \"TrainStats.parquet\")\n",
    "\n",
    "    return eval_results"
   ]
  },
  {
   "cell_type": "code",
   "execution_count": 12,
   "id": "8985b2a9-3f1a-42f3-9c96-052ba0f97587",
   "metadata": {},
   "outputs": [
    {
     "name": "stderr",
     "output_type": "stream",
     "text": [
      "Some weights of BertForSequenceClassification were not initialized from the model checkpoint at lyeonii/bert-tiny and are newly initialized: ['classifier.bias', 'classifier.weight']\n",
      "You should probably TRAIN this model on a down-stream task to be able to use it for predictions and inference.\n"
     ]
    },
    {
     "name": "stdout",
     "output_type": "stream",
     "text": [
      "Starting training...\n"
     ]
    },
    {
     "name": "stderr",
     "output_type": "stream",
     "text": [
      "/home/nathanhuey/miniconda3/envs/cs260d/lib/python3.12/site-packages/transformers/training_args.py:1568: FutureWarning: `evaluation_strategy` is deprecated and will be removed in version 4.46 of 🤗 Transformers. Use `eval_strategy` instead\n",
      "  warnings.warn(\n",
      "/tmp/ipykernel_1717/2272108582.py:92: FutureWarning: `tokenizer` is deprecated and will be removed in version 5.0.0 for `Trainer.__init__`. Use `processing_class` instead.\n",
      "  trainer = Trainer(\n"
     ]
    },
    {
     "data": {
      "text/html": [
       "\n",
       "    <div>\n",
       "      \n",
       "      <progress value='3340' max='3340' style='width:300px; height:20px; vertical-align: middle;'></progress>\n",
       "      [3340/3340 00:42, Epoch 10/10]\n",
       "    </div>\n",
       "    <table border=\"1\" class=\"dataframe\">\n",
       "  <thead>\n",
       " <tr style=\"text-align: left;\">\n",
       "      <th>Epoch</th>\n",
       "      <th>Training Loss</th>\n",
       "      <th>Validation Loss</th>\n",
       "      <th>Accuracy</th>\n",
       "      <th>Precision</th>\n",
       "      <th>Recall</th>\n",
       "      <th>F1</th>\n",
       "    </tr>\n",
       "  </thead>\n",
       "  <tbody>\n",
       "    <tr>\n",
       "      <td>1</td>\n",
       "      <td>0.690100</td>\n",
       "      <td>0.675124</td>\n",
       "      <td>0.592000</td>\n",
       "      <td>0.597426</td>\n",
       "      <td>0.632296</td>\n",
       "      <td>0.614367</td>\n",
       "    </tr>\n",
       "    <tr>\n",
       "      <td>2</td>\n",
       "      <td>0.674200</td>\n",
       "      <td>0.668736</td>\n",
       "      <td>0.606000</td>\n",
       "      <td>0.609091</td>\n",
       "      <td>0.651751</td>\n",
       "      <td>0.629699</td>\n",
       "    </tr>\n",
       "    <tr>\n",
       "      <td>3</td>\n",
       "      <td>0.672700</td>\n",
       "      <td>0.666032</td>\n",
       "      <td>0.610000</td>\n",
       "      <td>0.609155</td>\n",
       "      <td>0.673152</td>\n",
       "      <td>0.639556</td>\n",
       "    </tr>\n",
       "    <tr>\n",
       "      <td>4</td>\n",
       "      <td>0.653200</td>\n",
       "      <td>0.663927</td>\n",
       "      <td>0.611000</td>\n",
       "      <td>0.620424</td>\n",
       "      <td>0.626459</td>\n",
       "      <td>0.623427</td>\n",
       "    </tr>\n",
       "    <tr>\n",
       "      <td>5</td>\n",
       "      <td>0.673800</td>\n",
       "      <td>0.661331</td>\n",
       "      <td>0.606000</td>\n",
       "      <td>0.610294</td>\n",
       "      <td>0.645914</td>\n",
       "      <td>0.627599</td>\n",
       "    </tr>\n",
       "    <tr>\n",
       "      <td>6</td>\n",
       "      <td>0.659600</td>\n",
       "      <td>0.659229</td>\n",
       "      <td>0.603000</td>\n",
       "      <td>0.608133</td>\n",
       "      <td>0.640078</td>\n",
       "      <td>0.623697</td>\n",
       "    </tr>\n",
       "    <tr>\n",
       "      <td>7</td>\n",
       "      <td>0.658700</td>\n",
       "      <td>0.657707</td>\n",
       "      <td>0.609000</td>\n",
       "      <td>0.605128</td>\n",
       "      <td>0.688716</td>\n",
       "      <td>0.644222</td>\n",
       "    </tr>\n",
       "    <tr>\n",
       "      <td>8</td>\n",
       "      <td>0.658300</td>\n",
       "      <td>0.657059</td>\n",
       "      <td>0.609000</td>\n",
       "      <td>0.602671</td>\n",
       "      <td>0.702335</td>\n",
       "      <td>0.648697</td>\n",
       "    </tr>\n",
       "    <tr>\n",
       "      <td>9</td>\n",
       "      <td>0.655600</td>\n",
       "      <td>0.655778</td>\n",
       "      <td>0.607000</td>\n",
       "      <td>0.605954</td>\n",
       "      <td>0.673152</td>\n",
       "      <td>0.637788</td>\n",
       "    </tr>\n",
       "    <tr>\n",
       "      <td>10</td>\n",
       "      <td>0.661200</td>\n",
       "      <td>0.655651</td>\n",
       "      <td>0.608000</td>\n",
       "      <td>0.605536</td>\n",
       "      <td>0.680934</td>\n",
       "      <td>0.641026</td>\n",
       "    </tr>\n",
       "  </tbody>\n",
       "</table><p>"
      ],
      "text/plain": [
       "<IPython.core.display.HTML object>"
      ]
     },
     "metadata": {},
     "output_type": "display_data"
    },
    {
     "name": "stdout",
     "output_type": "stream",
     "text": [
      "Evaluating model...\n"
     ]
    },
    {
     "data": {
      "text/html": [
       "\n",
       "    <div>\n",
       "      \n",
       "      <progress value='17' max='17' style='width:300px; height:20px; vertical-align: middle;'></progress>\n",
       "      [17/17 00:00]\n",
       "    </div>\n",
       "    "
      ],
      "text/plain": [
       "<IPython.core.display.HTML object>"
      ]
     },
     "metadata": {},
     "output_type": "display_data"
    },
    {
     "name": "stdout",
     "output_type": "stream",
     "text": [
      "statsstats\n",
      "[]\n",
      "statsstats\n",
      "{'eval_loss': 0.6556513905525208, 'eval_accuracy': 0.608, 'eval_precision': 0.6055363321799307, 'eval_recall': 0.6809338521400778, 'eval_f1': 0.6410256410256411, 'eval_runtime': 0.1752, 'eval_samples_per_second': 5706.311, 'eval_steps_per_second': 97.007, 'epoch': 10.0, 'model_name': 'lyeonii/bert-tiny', 'dataset_name': 'toxic_spans'}\n"
     ]
    },
    {
     "name": "stderr",
     "output_type": "stream",
     "text": [
      "/home/nathanhuey/miniconda3/envs/cs260d/lib/python3.12/site-packages/transformers/modeling_utils.py:2773: UserWarning: `save_config` is deprecated and will be removed in v5 of Transformers. Use `is_main_process` instead.\n",
      "  warnings.warn(\n"
     ]
    }
   ],
   "source": [
    "eval_stats = train_and_evaluate_model(MODELS[\"bert\"][0], \"toxic_spans\")\n",
    "print(eval_stats)"
   ]
  },
  {
   "cell_type": "code",
   "execution_count": 15,
   "id": "8187eb19-1739-493a-9575-8d50dc5f56a7",
   "metadata": {},
   "outputs": [
    {
     "name": "stderr",
     "output_type": "stream",
     "text": [
      "Some weights of BertForSequenceClassification were not initialized from the model checkpoint at lyeonii/bert-tiny and are newly initialized: ['classifier.bias', 'classifier.weight']\n",
      "You should probably TRAIN this model on a down-stream task to be able to use it for predictions and inference.\n"
     ]
    },
    {
     "name": "stdout",
     "output_type": "stream",
     "text": [
      "Starting training...\n"
     ]
    },
    {
     "name": "stderr",
     "output_type": "stream",
     "text": [
      "/home/nathanhuey/miniconda3/envs/cs260d/lib/python3.12/site-packages/transformers/training_args.py:1568: FutureWarning: `evaluation_strategy` is deprecated and will be removed in version 4.46 of 🤗 Transformers. Use `eval_strategy` instead\n",
      "  warnings.warn(\n",
      "/tmp/ipykernel_1717/2272108582.py:92: FutureWarning: `tokenizer` is deprecated and will be removed in version 5.0.0 for `Trainer.__init__`. Use `processing_class` instead.\n",
      "  trainer = Trainer(\n"
     ]
    },
    {
     "data": {
      "text/html": [
       "\n",
       "    <div>\n",
       "      \n",
       "      <progress value='3340' max='3340' style='width:300px; height:20px; vertical-align: middle;'></progress>\n",
       "      [3340/3340 00:42, Epoch 10/10]\n",
       "    </div>\n",
       "    <table border=\"1\" class=\"dataframe\">\n",
       "  <thead>\n",
       " <tr style=\"text-align: left;\">\n",
       "      <th>Epoch</th>\n",
       "      <th>Training Loss</th>\n",
       "      <th>Validation Loss</th>\n",
       "      <th>Accuracy</th>\n",
       "      <th>Precision</th>\n",
       "      <th>Recall</th>\n",
       "      <th>F1</th>\n",
       "    </tr>\n",
       "  </thead>\n",
       "  <tbody>\n",
       "    <tr>\n",
       "      <td>1</td>\n",
       "      <td>0.690100</td>\n",
       "      <td>0.675124</td>\n",
       "      <td>0.592000</td>\n",
       "      <td>0.597426</td>\n",
       "      <td>0.632296</td>\n",
       "      <td>0.614367</td>\n",
       "    </tr>\n",
       "    <tr>\n",
       "      <td>2</td>\n",
       "      <td>0.674200</td>\n",
       "      <td>0.668736</td>\n",
       "      <td>0.606000</td>\n",
       "      <td>0.609091</td>\n",
       "      <td>0.651751</td>\n",
       "      <td>0.629699</td>\n",
       "    </tr>\n",
       "    <tr>\n",
       "      <td>3</td>\n",
       "      <td>0.672700</td>\n",
       "      <td>0.666032</td>\n",
       "      <td>0.610000</td>\n",
       "      <td>0.609155</td>\n",
       "      <td>0.673152</td>\n",
       "      <td>0.639556</td>\n",
       "    </tr>\n",
       "    <tr>\n",
       "      <td>4</td>\n",
       "      <td>0.653200</td>\n",
       "      <td>0.663927</td>\n",
       "      <td>0.611000</td>\n",
       "      <td>0.620424</td>\n",
       "      <td>0.626459</td>\n",
       "      <td>0.623427</td>\n",
       "    </tr>\n",
       "    <tr>\n",
       "      <td>5</td>\n",
       "      <td>0.673800</td>\n",
       "      <td>0.661331</td>\n",
       "      <td>0.606000</td>\n",
       "      <td>0.610294</td>\n",
       "      <td>0.645914</td>\n",
       "      <td>0.627599</td>\n",
       "    </tr>\n",
       "    <tr>\n",
       "      <td>6</td>\n",
       "      <td>0.659600</td>\n",
       "      <td>0.659229</td>\n",
       "      <td>0.603000</td>\n",
       "      <td>0.608133</td>\n",
       "      <td>0.640078</td>\n",
       "      <td>0.623697</td>\n",
       "    </tr>\n",
       "    <tr>\n",
       "      <td>7</td>\n",
       "      <td>0.658700</td>\n",
       "      <td>0.657707</td>\n",
       "      <td>0.609000</td>\n",
       "      <td>0.605128</td>\n",
       "      <td>0.688716</td>\n",
       "      <td>0.644222</td>\n",
       "    </tr>\n",
       "    <tr>\n",
       "      <td>8</td>\n",
       "      <td>0.658300</td>\n",
       "      <td>0.657059</td>\n",
       "      <td>0.609000</td>\n",
       "      <td>0.602671</td>\n",
       "      <td>0.702335</td>\n",
       "      <td>0.648697</td>\n",
       "    </tr>\n",
       "    <tr>\n",
       "      <td>9</td>\n",
       "      <td>0.655600</td>\n",
       "      <td>0.655778</td>\n",
       "      <td>0.607000</td>\n",
       "      <td>0.605954</td>\n",
       "      <td>0.673152</td>\n",
       "      <td>0.637788</td>\n",
       "    </tr>\n",
       "    <tr>\n",
       "      <td>10</td>\n",
       "      <td>0.661200</td>\n",
       "      <td>0.655651</td>\n",
       "      <td>0.608000</td>\n",
       "      <td>0.605536</td>\n",
       "      <td>0.680934</td>\n",
       "      <td>0.641026</td>\n",
       "    </tr>\n",
       "  </tbody>\n",
       "</table><p>"
      ],
      "text/plain": [
       "<IPython.core.display.HTML object>"
      ]
     },
     "metadata": {},
     "output_type": "display_data"
    },
    {
     "name": "stdout",
     "output_type": "stream",
     "text": [
      "Evaluating model...\n"
     ]
    },
    {
     "data": {
      "text/html": [
       "\n",
       "    <div>\n",
       "      \n",
       "      <progress value='17' max='17' style='width:300px; height:20px; vertical-align: middle;'></progress>\n",
       "      [17/17 00:00]\n",
       "    </div>\n",
       "    "
      ],
      "text/plain": [
       "<IPython.core.display.HTML object>"
      ]
     },
     "metadata": {},
     "output_type": "display_data"
    },
    {
     "name": "stderr",
     "output_type": "stream",
     "text": [
      "/home/nathanhuey/miniconda3/envs/cs260d/lib/python3.12/site-packages/transformers/modeling_utils.py:2773: UserWarning: `save_config` is deprecated and will be removed in v5 of Transformers. Use `is_main_process` instead.\n",
      "  warnings.warn(\n"
     ]
    },
    {
     "name": "stdout",
     "output_type": "stream",
     "text": [
      "statsstats\n",
      "[]\n",
      "statsstats\n"
     ]
    },
    {
     "name": "stderr",
     "output_type": "stream",
     "text": [
      "Some weights of BertForSequenceClassification were not initialized from the model checkpoint at lyeonii/bert-small and are newly initialized: ['classifier.bias', 'classifier.weight']\n",
      "You should probably TRAIN this model on a down-stream task to be able to use it for predictions and inference.\n"
     ]
    },
    {
     "name": "stdout",
     "output_type": "stream",
     "text": [
      "Starting training...\n"
     ]
    },
    {
     "name": "stderr",
     "output_type": "stream",
     "text": [
      "/home/nathanhuey/miniconda3/envs/cs260d/lib/python3.12/site-packages/transformers/training_args.py:1568: FutureWarning: `evaluation_strategy` is deprecated and will be removed in version 4.46 of 🤗 Transformers. Use `eval_strategy` instead\n",
      "  warnings.warn(\n",
      "/tmp/ipykernel_1717/2272108582.py:92: FutureWarning: `tokenizer` is deprecated and will be removed in version 5.0.0 for `Trainer.__init__`. Use `processing_class` instead.\n",
      "  trainer = Trainer(\n"
     ]
    },
    {
     "data": {
      "text/html": [
       "\n",
       "    <div>\n",
       "      \n",
       "      <progress value='3340' max='3340' style='width:300px; height:20px; vertical-align: middle;'></progress>\n",
       "      [3340/3340 02:51, Epoch 10/10]\n",
       "    </div>\n",
       "    <table border=\"1\" class=\"dataframe\">\n",
       "  <thead>\n",
       " <tr style=\"text-align: left;\">\n",
       "      <th>Epoch</th>\n",
       "      <th>Training Loss</th>\n",
       "      <th>Validation Loss</th>\n",
       "      <th>Accuracy</th>\n",
       "      <th>Precision</th>\n",
       "      <th>Recall</th>\n",
       "      <th>F1</th>\n",
       "    </tr>\n",
       "  </thead>\n",
       "  <tbody>\n",
       "    <tr>\n",
       "      <td>1</td>\n",
       "      <td>0.629900</td>\n",
       "      <td>0.647363</td>\n",
       "      <td>0.619000</td>\n",
       "      <td>0.607431</td>\n",
       "      <td>0.731518</td>\n",
       "      <td>0.663725</td>\n",
       "    </tr>\n",
       "    <tr>\n",
       "      <td>2</td>\n",
       "      <td>0.618500</td>\n",
       "      <td>0.645978</td>\n",
       "      <td>0.641000</td>\n",
       "      <td>0.621283</td>\n",
       "      <td>0.772374</td>\n",
       "      <td>0.688638</td>\n",
       "    </tr>\n",
       "    <tr>\n",
       "      <td>3</td>\n",
       "      <td>0.636000</td>\n",
       "      <td>0.630224</td>\n",
       "      <td>0.654000</td>\n",
       "      <td>0.657895</td>\n",
       "      <td>0.680934</td>\n",
       "      <td>0.669216</td>\n",
       "    </tr>\n",
       "    <tr>\n",
       "      <td>4</td>\n",
       "      <td>0.564100</td>\n",
       "      <td>0.641649</td>\n",
       "      <td>0.648000</td>\n",
       "      <td>0.650558</td>\n",
       "      <td>0.680934</td>\n",
       "      <td>0.665399</td>\n",
       "    </tr>\n",
       "    <tr>\n",
       "      <td>5</td>\n",
       "      <td>0.554400</td>\n",
       "      <td>0.649734</td>\n",
       "      <td>0.645000</td>\n",
       "      <td>0.640708</td>\n",
       "      <td>0.704280</td>\n",
       "      <td>0.670992</td>\n",
       "    </tr>\n",
       "    <tr>\n",
       "      <td>6</td>\n",
       "      <td>0.545800</td>\n",
       "      <td>0.679720</td>\n",
       "      <td>0.639000</td>\n",
       "      <td>0.618605</td>\n",
       "      <td>0.776265</td>\n",
       "      <td>0.688525</td>\n",
       "    </tr>\n",
       "    <tr>\n",
       "      <td>7</td>\n",
       "      <td>0.513100</td>\n",
       "      <td>0.677930</td>\n",
       "      <td>0.638000</td>\n",
       "      <td>0.627090</td>\n",
       "      <td>0.729572</td>\n",
       "      <td>0.674460</td>\n",
       "    </tr>\n",
       "    <tr>\n",
       "      <td>8</td>\n",
       "      <td>0.503000</td>\n",
       "      <td>0.689725</td>\n",
       "      <td>0.640000</td>\n",
       "      <td>0.625000</td>\n",
       "      <td>0.749027</td>\n",
       "      <td>0.681416</td>\n",
       "    </tr>\n",
       "    <tr>\n",
       "      <td>9</td>\n",
       "      <td>0.492300</td>\n",
       "      <td>0.695588</td>\n",
       "      <td>0.633000</td>\n",
       "      <td>0.620690</td>\n",
       "      <td>0.735409</td>\n",
       "      <td>0.673197</td>\n",
       "    </tr>\n",
       "    <tr>\n",
       "      <td>10</td>\n",
       "      <td>0.488600</td>\n",
       "      <td>0.705375</td>\n",
       "      <td>0.635000</td>\n",
       "      <td>0.616588</td>\n",
       "      <td>0.766537</td>\n",
       "      <td>0.683435</td>\n",
       "    </tr>\n",
       "  </tbody>\n",
       "</table><p>"
      ],
      "text/plain": [
       "<IPython.core.display.HTML object>"
      ]
     },
     "metadata": {},
     "output_type": "display_data"
    },
    {
     "name": "stdout",
     "output_type": "stream",
     "text": [
      "Evaluating model...\n"
     ]
    },
    {
     "data": {
      "text/html": [
       "\n",
       "    <div>\n",
       "      \n",
       "      <progress value='17' max='17' style='width:300px; height:20px; vertical-align: middle;'></progress>\n",
       "      [17/17 00:00]\n",
       "    </div>\n",
       "    "
      ],
      "text/plain": [
       "<IPython.core.display.HTML object>"
      ]
     },
     "metadata": {},
     "output_type": "display_data"
    },
    {
     "name": "stderr",
     "output_type": "stream",
     "text": [
      "/home/nathanhuey/miniconda3/envs/cs260d/lib/python3.12/site-packages/transformers/modeling_utils.py:2773: UserWarning: `save_config` is deprecated and will be removed in v5 of Transformers. Use `is_main_process` instead.\n",
      "  warnings.warn(\n"
     ]
    },
    {
     "name": "stdout",
     "output_type": "stream",
     "text": [
      "statsstats\n",
      "[]\n",
      "statsstats\n"
     ]
    },
    {
     "name": "stderr",
     "output_type": "stream",
     "text": [
      "Some weights of BertForSequenceClassification were not initialized from the model checkpoint at lyeonii/bert-medium and are newly initialized: ['classifier.bias', 'classifier.weight']\n",
      "You should probably TRAIN this model on a down-stream task to be able to use it for predictions and inference.\n"
     ]
    },
    {
     "name": "stdout",
     "output_type": "stream",
     "text": [
      "Starting training...\n"
     ]
    },
    {
     "name": "stderr",
     "output_type": "stream",
     "text": [
      "/home/nathanhuey/miniconda3/envs/cs260d/lib/python3.12/site-packages/transformers/training_args.py:1568: FutureWarning: `evaluation_strategy` is deprecated and will be removed in version 4.46 of 🤗 Transformers. Use `eval_strategy` instead\n",
      "  warnings.warn(\n",
      "/tmp/ipykernel_1717/2272108582.py:92: FutureWarning: `tokenizer` is deprecated and will be removed in version 5.0.0 for `Trainer.__init__`. Use `processing_class` instead.\n",
      "  trainer = Trainer(\n"
     ]
    },
    {
     "data": {
      "text/html": [
       "\n",
       "    <div>\n",
       "      \n",
       "      <progress value='3340' max='3340' style='width:300px; height:20px; vertical-align: middle;'></progress>\n",
       "      [3340/3340 05:19, Epoch 10/10]\n",
       "    </div>\n",
       "    <table border=\"1\" class=\"dataframe\">\n",
       "  <thead>\n",
       " <tr style=\"text-align: left;\">\n",
       "      <th>Epoch</th>\n",
       "      <th>Training Loss</th>\n",
       "      <th>Validation Loss</th>\n",
       "      <th>Accuracy</th>\n",
       "      <th>Precision</th>\n",
       "      <th>Recall</th>\n",
       "      <th>F1</th>\n",
       "    </tr>\n",
       "  </thead>\n",
       "  <tbody>\n",
       "    <tr>\n",
       "      <td>1</td>\n",
       "      <td>0.629100</td>\n",
       "      <td>0.633356</td>\n",
       "      <td>0.653000</td>\n",
       "      <td>0.645724</td>\n",
       "      <td>0.719844</td>\n",
       "      <td>0.680773</td>\n",
       "    </tr>\n",
       "    <tr>\n",
       "      <td>2</td>\n",
       "      <td>0.606400</td>\n",
       "      <td>0.621483</td>\n",
       "      <td>0.668000</td>\n",
       "      <td>0.659091</td>\n",
       "      <td>0.733463</td>\n",
       "      <td>0.694291</td>\n",
       "    </tr>\n",
       "    <tr>\n",
       "      <td>3</td>\n",
       "      <td>0.605500</td>\n",
       "      <td>0.627209</td>\n",
       "      <td>0.661000</td>\n",
       "      <td>0.683438</td>\n",
       "      <td>0.634241</td>\n",
       "      <td>0.657921</td>\n",
       "    </tr>\n",
       "    <tr>\n",
       "      <td>4</td>\n",
       "      <td>0.529700</td>\n",
       "      <td>0.634946</td>\n",
       "      <td>0.662000</td>\n",
       "      <td>0.667939</td>\n",
       "      <td>0.680934</td>\n",
       "      <td>0.674374</td>\n",
       "    </tr>\n",
       "    <tr>\n",
       "      <td>5</td>\n",
       "      <td>0.516400</td>\n",
       "      <td>0.650738</td>\n",
       "      <td>0.668000</td>\n",
       "      <td>0.676357</td>\n",
       "      <td>0.678988</td>\n",
       "      <td>0.677670</td>\n",
       "    </tr>\n",
       "    <tr>\n",
       "      <td>6</td>\n",
       "      <td>0.471500</td>\n",
       "      <td>0.674443</td>\n",
       "      <td>0.658000</td>\n",
       "      <td>0.651943</td>\n",
       "      <td>0.717899</td>\n",
       "      <td>0.683333</td>\n",
       "    </tr>\n",
       "    <tr>\n",
       "      <td>7</td>\n",
       "      <td>0.443400</td>\n",
       "      <td>0.701252</td>\n",
       "      <td>0.657000</td>\n",
       "      <td>0.651865</td>\n",
       "      <td>0.714008</td>\n",
       "      <td>0.681523</td>\n",
       "    </tr>\n",
       "    <tr>\n",
       "      <td>8</td>\n",
       "      <td>0.448800</td>\n",
       "      <td>0.714963</td>\n",
       "      <td>0.667000</td>\n",
       "      <td>0.667904</td>\n",
       "      <td>0.700389</td>\n",
       "      <td>0.683761</td>\n",
       "    </tr>\n",
       "    <tr>\n",
       "      <td>9</td>\n",
       "      <td>0.420600</td>\n",
       "      <td>0.731795</td>\n",
       "      <td>0.659000</td>\n",
       "      <td>0.658135</td>\n",
       "      <td>0.700389</td>\n",
       "      <td>0.678605</td>\n",
       "    </tr>\n",
       "    <tr>\n",
       "      <td>10</td>\n",
       "      <td>0.390400</td>\n",
       "      <td>0.739692</td>\n",
       "      <td>0.660000</td>\n",
       "      <td>0.655914</td>\n",
       "      <td>0.712062</td>\n",
       "      <td>0.682836</td>\n",
       "    </tr>\n",
       "  </tbody>\n",
       "</table><p>"
      ],
      "text/plain": [
       "<IPython.core.display.HTML object>"
      ]
     },
     "metadata": {},
     "output_type": "display_data"
    },
    {
     "name": "stdout",
     "output_type": "stream",
     "text": [
      "Evaluating model...\n"
     ]
    },
    {
     "data": {
      "text/html": [
       "\n",
       "    <div>\n",
       "      \n",
       "      <progress value='17' max='17' style='width:300px; height:20px; vertical-align: middle;'></progress>\n",
       "      [17/17 00:00]\n",
       "    </div>\n",
       "    "
      ],
      "text/plain": [
       "<IPython.core.display.HTML object>"
      ]
     },
     "metadata": {},
     "output_type": "display_data"
    },
    {
     "name": "stderr",
     "output_type": "stream",
     "text": [
      "/home/nathanhuey/miniconda3/envs/cs260d/lib/python3.12/site-packages/transformers/modeling_utils.py:2773: UserWarning: `save_config` is deprecated and will be removed in v5 of Transformers. Use `is_main_process` instead.\n",
      "  warnings.warn(\n"
     ]
    },
    {
     "name": "stdout",
     "output_type": "stream",
     "text": [
      "statsstats\n",
      "[]\n",
      "statsstats\n"
     ]
    },
    {
     "name": "stderr",
     "output_type": "stream",
     "text": [
      "Some weights of BertForSequenceClassification were not initialized from the model checkpoint at google-bert/bert-base-uncased and are newly initialized: ['classifier.bias', 'classifier.weight']\n",
      "You should probably TRAIN this model on a down-stream task to be able to use it for predictions and inference.\n"
     ]
    },
    {
     "name": "stdout",
     "output_type": "stream",
     "text": [
      "Starting training...\n"
     ]
    },
    {
     "name": "stderr",
     "output_type": "stream",
     "text": [
      "/home/nathanhuey/miniconda3/envs/cs260d/lib/python3.12/site-packages/transformers/training_args.py:1568: FutureWarning: `evaluation_strategy` is deprecated and will be removed in version 4.46 of 🤗 Transformers. Use `eval_strategy` instead\n",
      "  warnings.warn(\n",
      "/tmp/ipykernel_1717/2272108582.py:92: FutureWarning: `tokenizer` is deprecated and will be removed in version 5.0.0 for `Trainer.__init__`. Use `processing_class` instead.\n",
      "  trainer = Trainer(\n"
     ]
    },
    {
     "data": {
      "text/html": [
       "\n",
       "    <div>\n",
       "      \n",
       "      <progress value='3340' max='3340' style='width:300px; height:20px; vertical-align: middle;'></progress>\n",
       "      [3340/3340 14:31, Epoch 10/10]\n",
       "    </div>\n",
       "    <table border=\"1\" class=\"dataframe\">\n",
       "  <thead>\n",
       " <tr style=\"text-align: left;\">\n",
       "      <th>Epoch</th>\n",
       "      <th>Training Loss</th>\n",
       "      <th>Validation Loss</th>\n",
       "      <th>Accuracy</th>\n",
       "      <th>Precision</th>\n",
       "      <th>Recall</th>\n",
       "      <th>F1</th>\n",
       "    </tr>\n",
       "  </thead>\n",
       "  <tbody>\n",
       "    <tr>\n",
       "      <td>1</td>\n",
       "      <td>0.651400</td>\n",
       "      <td>0.624150</td>\n",
       "      <td>0.661000</td>\n",
       "      <td>0.659381</td>\n",
       "      <td>0.704280</td>\n",
       "      <td>0.681091</td>\n",
       "    </tr>\n",
       "    <tr>\n",
       "      <td>2</td>\n",
       "      <td>0.614400</td>\n",
       "      <td>0.617118</td>\n",
       "      <td>0.665000</td>\n",
       "      <td>0.657848</td>\n",
       "      <td>0.725681</td>\n",
       "      <td>0.690102</td>\n",
       "    </tr>\n",
       "    <tr>\n",
       "      <td>3</td>\n",
       "      <td>0.578200</td>\n",
       "      <td>0.667093</td>\n",
       "      <td>0.659000</td>\n",
       "      <td>0.733154</td>\n",
       "      <td>0.529183</td>\n",
       "      <td>0.614689</td>\n",
       "    </tr>\n",
       "    <tr>\n",
       "      <td>4</td>\n",
       "      <td>0.499200</td>\n",
       "      <td>0.676476</td>\n",
       "      <td>0.651000</td>\n",
       "      <td>0.653631</td>\n",
       "      <td>0.682879</td>\n",
       "      <td>0.667935</td>\n",
       "    </tr>\n",
       "    <tr>\n",
       "      <td>5</td>\n",
       "      <td>0.453900</td>\n",
       "      <td>0.727654</td>\n",
       "      <td>0.633000</td>\n",
       "      <td>0.612903</td>\n",
       "      <td>0.776265</td>\n",
       "      <td>0.684979</td>\n",
       "    </tr>\n",
       "    <tr>\n",
       "      <td>6</td>\n",
       "      <td>0.349600</td>\n",
       "      <td>0.790419</td>\n",
       "      <td>0.630000</td>\n",
       "      <td>0.644578</td>\n",
       "      <td>0.624514</td>\n",
       "      <td>0.634387</td>\n",
       "    </tr>\n",
       "    <tr>\n",
       "      <td>7</td>\n",
       "      <td>0.291800</td>\n",
       "      <td>0.862223</td>\n",
       "      <td>0.628000</td>\n",
       "      <td>0.631970</td>\n",
       "      <td>0.661479</td>\n",
       "      <td>0.646388</td>\n",
       "    </tr>\n",
       "    <tr>\n",
       "      <td>8</td>\n",
       "      <td>0.233100</td>\n",
       "      <td>0.929315</td>\n",
       "      <td>0.622000</td>\n",
       "      <td>0.647186</td>\n",
       "      <td>0.581712</td>\n",
       "      <td>0.612705</td>\n",
       "    </tr>\n",
       "    <tr>\n",
       "      <td>9</td>\n",
       "      <td>0.237600</td>\n",
       "      <td>0.970917</td>\n",
       "      <td>0.627000</td>\n",
       "      <td>0.647182</td>\n",
       "      <td>0.603113</td>\n",
       "      <td>0.624371</td>\n",
       "    </tr>\n",
       "    <tr>\n",
       "      <td>10</td>\n",
       "      <td>0.168200</td>\n",
       "      <td>0.991555</td>\n",
       "      <td>0.629000</td>\n",
       "      <td>0.649269</td>\n",
       "      <td>0.605058</td>\n",
       "      <td>0.626385</td>\n",
       "    </tr>\n",
       "  </tbody>\n",
       "</table><p>"
      ],
      "text/plain": [
       "<IPython.core.display.HTML object>"
      ]
     },
     "metadata": {},
     "output_type": "display_data"
    },
    {
     "name": "stdout",
     "output_type": "stream",
     "text": [
      "Evaluating model...\n"
     ]
    },
    {
     "data": {
      "text/html": [
       "\n",
       "    <div>\n",
       "      \n",
       "      <progress value='17' max='17' style='width:300px; height:20px; vertical-align: middle;'></progress>\n",
       "      [17/17 00:01]\n",
       "    </div>\n",
       "    "
      ],
      "text/plain": [
       "<IPython.core.display.HTML object>"
      ]
     },
     "metadata": {},
     "output_type": "display_data"
    },
    {
     "name": "stderr",
     "output_type": "stream",
     "text": [
      "/home/nathanhuey/miniconda3/envs/cs260d/lib/python3.12/site-packages/transformers/modeling_utils.py:2773: UserWarning: `save_config` is deprecated and will be removed in v5 of Transformers. Use `is_main_process` instead.\n",
      "  warnings.warn(\n"
     ]
    },
    {
     "name": "stdout",
     "output_type": "stream",
     "text": [
      "statsstats\n",
      "[]\n",
      "statsstats\n"
     ]
    },
    {
     "name": "stderr",
     "output_type": "stream",
     "text": [
      "Some weights of BertForSequenceClassification were not initialized from the model checkpoint at google-bert/bert-large-uncased and are newly initialized: ['classifier.bias', 'classifier.weight']\n",
      "You should probably TRAIN this model on a down-stream task to be able to use it for predictions and inference.\n"
     ]
    },
    {
     "name": "stdout",
     "output_type": "stream",
     "text": [
      "Starting training...\n"
     ]
    },
    {
     "name": "stderr",
     "output_type": "stream",
     "text": [
      "/home/nathanhuey/miniconda3/envs/cs260d/lib/python3.12/site-packages/transformers/training_args.py:1568: FutureWarning: `evaluation_strategy` is deprecated and will be removed in version 4.46 of 🤗 Transformers. Use `eval_strategy` instead\n",
      "  warnings.warn(\n",
      "/tmp/ipykernel_1717/2272108582.py:92: FutureWarning: `tokenizer` is deprecated and will be removed in version 5.0.0 for `Trainer.__init__`. Use `processing_class` instead.\n",
      "  trainer = Trainer(\n"
     ]
    },
    {
     "data": {
      "text/html": [
       "\n",
       "    <div>\n",
       "      \n",
       "      <progress value='3340' max='3340' style='width:300px; height:20px; vertical-align: middle;'></progress>\n",
       "      [3340/3340 44:53, Epoch 10/10]\n",
       "    </div>\n",
       "    <table border=\"1\" class=\"dataframe\">\n",
       "  <thead>\n",
       " <tr style=\"text-align: left;\">\n",
       "      <th>Epoch</th>\n",
       "      <th>Training Loss</th>\n",
       "      <th>Validation Loss</th>\n",
       "      <th>Accuracy</th>\n",
       "      <th>Precision</th>\n",
       "      <th>Recall</th>\n",
       "      <th>F1</th>\n",
       "    </tr>\n",
       "  </thead>\n",
       "  <tbody>\n",
       "    <tr>\n",
       "      <td>1</td>\n",
       "      <td>0.629500</td>\n",
       "      <td>0.635413</td>\n",
       "      <td>0.648000</td>\n",
       "      <td>0.626168</td>\n",
       "      <td>0.782101</td>\n",
       "      <td>0.695502</td>\n",
       "    </tr>\n",
       "    <tr>\n",
       "      <td>2</td>\n",
       "      <td>0.605200</td>\n",
       "      <td>0.609283</td>\n",
       "      <td>0.677000</td>\n",
       "      <td>0.662139</td>\n",
       "      <td>0.758755</td>\n",
       "      <td>0.707162</td>\n",
       "    </tr>\n",
       "    <tr>\n",
       "      <td>3</td>\n",
       "      <td>0.505900</td>\n",
       "      <td>0.688234</td>\n",
       "      <td>0.644000</td>\n",
       "      <td>0.693627</td>\n",
       "      <td>0.550584</td>\n",
       "      <td>0.613883</td>\n",
       "    </tr>\n",
       "    <tr>\n",
       "      <td>4</td>\n",
       "      <td>0.423800</td>\n",
       "      <td>0.739682</td>\n",
       "      <td>0.661000</td>\n",
       "      <td>0.644628</td>\n",
       "      <td>0.758755</td>\n",
       "      <td>0.697051</td>\n",
       "    </tr>\n",
       "    <tr>\n",
       "      <td>5</td>\n",
       "      <td>0.313000</td>\n",
       "      <td>0.891864</td>\n",
       "      <td>0.634000</td>\n",
       "      <td>0.604225</td>\n",
       "      <td>0.834630</td>\n",
       "      <td>0.700980</td>\n",
       "    </tr>\n",
       "    <tr>\n",
       "      <td>6</td>\n",
       "      <td>0.242400</td>\n",
       "      <td>1.029872</td>\n",
       "      <td>0.624000</td>\n",
       "      <td>0.629213</td>\n",
       "      <td>0.653696</td>\n",
       "      <td>0.641221</td>\n",
       "    </tr>\n",
       "    <tr>\n",
       "      <td>7</td>\n",
       "      <td>0.151600</td>\n",
       "      <td>1.115055</td>\n",
       "      <td>0.643000</td>\n",
       "      <td>0.631933</td>\n",
       "      <td>0.731518</td>\n",
       "      <td>0.678088</td>\n",
       "    </tr>\n",
       "    <tr>\n",
       "      <td>8</td>\n",
       "      <td>0.109700</td>\n",
       "      <td>1.289544</td>\n",
       "      <td>0.630000</td>\n",
       "      <td>0.632841</td>\n",
       "      <td>0.667315</td>\n",
       "      <td>0.649621</td>\n",
       "    </tr>\n",
       "    <tr>\n",
       "      <td>9</td>\n",
       "      <td>0.040300</td>\n",
       "      <td>1.404834</td>\n",
       "      <td>0.632000</td>\n",
       "      <td>0.635185</td>\n",
       "      <td>0.667315</td>\n",
       "      <td>0.650854</td>\n",
       "    </tr>\n",
       "    <tr>\n",
       "      <td>10</td>\n",
       "      <td>0.069100</td>\n",
       "      <td>1.483014</td>\n",
       "      <td>0.638000</td>\n",
       "      <td>0.642322</td>\n",
       "      <td>0.667315</td>\n",
       "      <td>0.654580</td>\n",
       "    </tr>\n",
       "  </tbody>\n",
       "</table><p>"
      ],
      "text/plain": [
       "<IPython.core.display.HTML object>"
      ]
     },
     "metadata": {},
     "output_type": "display_data"
    },
    {
     "name": "stdout",
     "output_type": "stream",
     "text": [
      "Evaluating model...\n"
     ]
    },
    {
     "data": {
      "text/html": [
       "\n",
       "    <div>\n",
       "      \n",
       "      <progress value='17' max='17' style='width:300px; height:20px; vertical-align: middle;'></progress>\n",
       "      [17/17 00:05]\n",
       "    </div>\n",
       "    "
      ],
      "text/plain": [
       "<IPython.core.display.HTML object>"
      ]
     },
     "metadata": {},
     "output_type": "display_data"
    },
    {
     "name": "stderr",
     "output_type": "stream",
     "text": [
      "/home/nathanhuey/miniconda3/envs/cs260d/lib/python3.12/site-packages/transformers/modeling_utils.py:2773: UserWarning: `save_config` is deprecated and will be removed in v5 of Transformers. Use `is_main_process` instead.\n",
      "  warnings.warn(\n"
     ]
    },
    {
     "name": "stdout",
     "output_type": "stream",
     "text": [
      "statsstats\n",
      "[]\n",
      "statsstats\n"
     ]
    },
    {
     "name": "stderr",
     "output_type": "stream",
     "text": [
      "Some weights of RobertaForSequenceClassification were not initialized from the model checkpoint at smallbenchnlp/roberta-small and are newly initialized: ['classifier.dense.bias', 'classifier.dense.weight', 'classifier.out_proj.bias', 'classifier.out_proj.weight']\n",
      "You should probably TRAIN this model on a down-stream task to be able to use it for predictions and inference.\n",
      "/home/nathanhuey/miniconda3/envs/cs260d/lib/python3.12/site-packages/transformers/training_args.py:1568: FutureWarning: `evaluation_strategy` is deprecated and will be removed in version 4.46 of 🤗 Transformers. Use `eval_strategy` instead\n",
      "  warnings.warn(\n",
      "/tmp/ipykernel_1717/2272108582.py:92: FutureWarning: `tokenizer` is deprecated and will be removed in version 5.0.0 for `Trainer.__init__`. Use `processing_class` instead.\n",
      "  trainer = Trainer(\n"
     ]
    },
    {
     "name": "stdout",
     "output_type": "stream",
     "text": [
      "Starting training...\n",
      "model_name smallbenchnlp/roberta-small failed with error: The expanded size of the tensor (256) must match the existing size (128) at non-singleton dimension 1.  Target sizes: [30, 256].  Tensor sizes: [1, 128]\n"
     ]
    },
    {
     "name": "stderr",
     "output_type": "stream",
     "text": [
      "Some weights of RobertaForSequenceClassification were not initialized from the model checkpoint at JackBAI/roberta-medium and are newly initialized: ['classifier.dense.bias', 'classifier.dense.weight', 'classifier.out_proj.bias', 'classifier.out_proj.weight']\n",
      "You should probably TRAIN this model on a down-stream task to be able to use it for predictions and inference.\n"
     ]
    },
    {
     "name": "stdout",
     "output_type": "stream",
     "text": [
      "Starting training...\n"
     ]
    },
    {
     "name": "stderr",
     "output_type": "stream",
     "text": [
      "/home/nathanhuey/miniconda3/envs/cs260d/lib/python3.12/site-packages/transformers/training_args.py:1568: FutureWarning: `evaluation_strategy` is deprecated and will be removed in version 4.46 of 🤗 Transformers. Use `eval_strategy` instead\n",
      "  warnings.warn(\n",
      "/tmp/ipykernel_1717/2272108582.py:92: FutureWarning: `tokenizer` is deprecated and will be removed in version 5.0.0 for `Trainer.__init__`. Use `processing_class` instead.\n",
      "  trainer = Trainer(\n"
     ]
    },
    {
     "data": {
      "text/html": [
       "\n",
       "    <div>\n",
       "      \n",
       "      <progress value='3340' max='3340' style='width:300px; height:20px; vertical-align: middle;'></progress>\n",
       "      [3340/3340 05:32, Epoch 10/10]\n",
       "    </div>\n",
       "    <table border=\"1\" class=\"dataframe\">\n",
       "  <thead>\n",
       " <tr style=\"text-align: left;\">\n",
       "      <th>Epoch</th>\n",
       "      <th>Training Loss</th>\n",
       "      <th>Validation Loss</th>\n",
       "      <th>Accuracy</th>\n",
       "      <th>Precision</th>\n",
       "      <th>Recall</th>\n",
       "      <th>F1</th>\n",
       "    </tr>\n",
       "  </thead>\n",
       "  <tbody>\n",
       "    <tr>\n",
       "      <td>1</td>\n",
       "      <td>0.674100</td>\n",
       "      <td>0.663556</td>\n",
       "      <td>0.599000</td>\n",
       "      <td>0.581766</td>\n",
       "      <td>0.782101</td>\n",
       "      <td>0.667220</td>\n",
       "    </tr>\n",
       "    <tr>\n",
       "      <td>2</td>\n",
       "      <td>0.620600</td>\n",
       "      <td>0.638290</td>\n",
       "      <td>0.639000</td>\n",
       "      <td>0.637343</td>\n",
       "      <td>0.690661</td>\n",
       "      <td>0.662932</td>\n",
       "    </tr>\n",
       "    <tr>\n",
       "      <td>3</td>\n",
       "      <td>0.619300</td>\n",
       "      <td>0.650317</td>\n",
       "      <td>0.661000</td>\n",
       "      <td>0.733333</td>\n",
       "      <td>0.535019</td>\n",
       "      <td>0.618673</td>\n",
       "    </tr>\n",
       "    <tr>\n",
       "      <td>4</td>\n",
       "      <td>0.570900</td>\n",
       "      <td>0.646451</td>\n",
       "      <td>0.641000</td>\n",
       "      <td>0.648184</td>\n",
       "      <td>0.659533</td>\n",
       "      <td>0.653809</td>\n",
       "    </tr>\n",
       "    <tr>\n",
       "      <td>5</td>\n",
       "      <td>0.595100</td>\n",
       "      <td>0.656806</td>\n",
       "      <td>0.642000</td>\n",
       "      <td>0.650579</td>\n",
       "      <td>0.655642</td>\n",
       "      <td>0.653101</td>\n",
       "    </tr>\n",
       "    <tr>\n",
       "      <td>6</td>\n",
       "      <td>0.576200</td>\n",
       "      <td>0.664132</td>\n",
       "      <td>0.651000</td>\n",
       "      <td>0.641509</td>\n",
       "      <td>0.727626</td>\n",
       "      <td>0.681860</td>\n",
       "    </tr>\n",
       "    <tr>\n",
       "      <td>7</td>\n",
       "      <td>0.559200</td>\n",
       "      <td>0.683676</td>\n",
       "      <td>0.645000</td>\n",
       "      <td>0.637306</td>\n",
       "      <td>0.717899</td>\n",
       "      <td>0.675206</td>\n",
       "    </tr>\n",
       "    <tr>\n",
       "      <td>8</td>\n",
       "      <td>0.509600</td>\n",
       "      <td>0.683688</td>\n",
       "      <td>0.655000</td>\n",
       "      <td>0.661568</td>\n",
       "      <td>0.673152</td>\n",
       "      <td>0.667310</td>\n",
       "    </tr>\n",
       "    <tr>\n",
       "      <td>9</td>\n",
       "      <td>0.547300</td>\n",
       "      <td>0.697140</td>\n",
       "      <td>0.643000</td>\n",
       "      <td>0.641953</td>\n",
       "      <td>0.690661</td>\n",
       "      <td>0.665417</td>\n",
       "    </tr>\n",
       "    <tr>\n",
       "      <td>10</td>\n",
       "      <td>0.515400</td>\n",
       "      <td>0.706029</td>\n",
       "      <td>0.642000</td>\n",
       "      <td>0.635889</td>\n",
       "      <td>0.710117</td>\n",
       "      <td>0.670956</td>\n",
       "    </tr>\n",
       "  </tbody>\n",
       "</table><p>"
      ],
      "text/plain": [
       "<IPython.core.display.HTML object>"
      ]
     },
     "metadata": {},
     "output_type": "display_data"
    },
    {
     "name": "stdout",
     "output_type": "stream",
     "text": [
      "Evaluating model...\n"
     ]
    },
    {
     "data": {
      "text/html": [
       "\n",
       "    <div>\n",
       "      \n",
       "      <progress value='17' max='17' style='width:300px; height:20px; vertical-align: middle;'></progress>\n",
       "      [17/17 00:00]\n",
       "    </div>\n",
       "    "
      ],
      "text/plain": [
       "<IPython.core.display.HTML object>"
      ]
     },
     "metadata": {},
     "output_type": "display_data"
    },
    {
     "name": "stderr",
     "output_type": "stream",
     "text": [
      "/home/nathanhuey/miniconda3/envs/cs260d/lib/python3.12/site-packages/transformers/modeling_utils.py:2773: UserWarning: `save_config` is deprecated and will be removed in v5 of Transformers. Use `is_main_process` instead.\n",
      "  warnings.warn(\n"
     ]
    },
    {
     "name": "stdout",
     "output_type": "stream",
     "text": [
      "statsstats\n",
      "[]\n",
      "statsstats\n"
     ]
    },
    {
     "name": "stderr",
     "output_type": "stream",
     "text": [
      "Some weights of RobertaForSequenceClassification were not initialized from the model checkpoint at FacebookAI/roberta-base and are newly initialized: ['classifier.dense.bias', 'classifier.dense.weight', 'classifier.out_proj.bias', 'classifier.out_proj.weight']\n",
      "You should probably TRAIN this model on a down-stream task to be able to use it for predictions and inference.\n"
     ]
    },
    {
     "name": "stdout",
     "output_type": "stream",
     "text": [
      "Starting training...\n"
     ]
    },
    {
     "name": "stderr",
     "output_type": "stream",
     "text": [
      "/home/nathanhuey/miniconda3/envs/cs260d/lib/python3.12/site-packages/transformers/training_args.py:1568: FutureWarning: `evaluation_strategy` is deprecated and will be removed in version 4.46 of 🤗 Transformers. Use `eval_strategy` instead\n",
      "  warnings.warn(\n",
      "/tmp/ipykernel_1717/2272108582.py:92: FutureWarning: `tokenizer` is deprecated and will be removed in version 5.0.0 for `Trainer.__init__`. Use `processing_class` instead.\n",
      "  trainer = Trainer(\n"
     ]
    },
    {
     "data": {
      "text/html": [
       "\n",
       "    <div>\n",
       "      \n",
       "      <progress value='3340' max='3340' style='width:300px; height:20px; vertical-align: middle;'></progress>\n",
       "      [3340/3340 14:48, Epoch 10/10]\n",
       "    </div>\n",
       "    <table border=\"1\" class=\"dataframe\">\n",
       "  <thead>\n",
       " <tr style=\"text-align: left;\">\n",
       "      <th>Epoch</th>\n",
       "      <th>Training Loss</th>\n",
       "      <th>Validation Loss</th>\n",
       "      <th>Accuracy</th>\n",
       "      <th>Precision</th>\n",
       "      <th>Recall</th>\n",
       "      <th>F1</th>\n",
       "    </tr>\n",
       "  </thead>\n",
       "  <tbody>\n",
       "    <tr>\n",
       "      <td>1</td>\n",
       "      <td>0.623100</td>\n",
       "      <td>0.654876</td>\n",
       "      <td>0.654000</td>\n",
       "      <td>0.635922</td>\n",
       "      <td>0.764591</td>\n",
       "      <td>0.694346</td>\n",
       "    </tr>\n",
       "    <tr>\n",
       "      <td>2</td>\n",
       "      <td>0.599800</td>\n",
       "      <td>0.634396</td>\n",
       "      <td>0.643000</td>\n",
       "      <td>0.621705</td>\n",
       "      <td>0.780156</td>\n",
       "      <td>0.691976</td>\n",
       "    </tr>\n",
       "    <tr>\n",
       "      <td>3</td>\n",
       "      <td>0.571200</td>\n",
       "      <td>0.669980</td>\n",
       "      <td>0.651000</td>\n",
       "      <td>0.714286</td>\n",
       "      <td>0.535019</td>\n",
       "      <td>0.611791</td>\n",
       "    </tr>\n",
       "    <tr>\n",
       "      <td>4</td>\n",
       "      <td>0.508900</td>\n",
       "      <td>0.698267</td>\n",
       "      <td>0.656000</td>\n",
       "      <td>0.644068</td>\n",
       "      <td>0.739300</td>\n",
       "      <td>0.688406</td>\n",
       "    </tr>\n",
       "    <tr>\n",
       "      <td>5</td>\n",
       "      <td>0.489500</td>\n",
       "      <td>0.762552</td>\n",
       "      <td>0.631000</td>\n",
       "      <td>0.606149</td>\n",
       "      <td>0.805447</td>\n",
       "      <td>0.691729</td>\n",
       "    </tr>\n",
       "    <tr>\n",
       "      <td>6</td>\n",
       "      <td>0.438300</td>\n",
       "      <td>0.747055</td>\n",
       "      <td>0.632000</td>\n",
       "      <td>0.617742</td>\n",
       "      <td>0.745136</td>\n",
       "      <td>0.675485</td>\n",
       "    </tr>\n",
       "    <tr>\n",
       "      <td>7</td>\n",
       "      <td>0.318300</td>\n",
       "      <td>0.907847</td>\n",
       "      <td>0.629000</td>\n",
       "      <td>0.612245</td>\n",
       "      <td>0.758755</td>\n",
       "      <td>0.677672</td>\n",
       "    </tr>\n",
       "    <tr>\n",
       "      <td>8</td>\n",
       "      <td>0.329100</td>\n",
       "      <td>0.944461</td>\n",
       "      <td>0.632000</td>\n",
       "      <td>0.642578</td>\n",
       "      <td>0.640078</td>\n",
       "      <td>0.641326</td>\n",
       "    </tr>\n",
       "    <tr>\n",
       "      <td>9</td>\n",
       "      <td>0.346100</td>\n",
       "      <td>1.000771</td>\n",
       "      <td>0.620000</td>\n",
       "      <td>0.617133</td>\n",
       "      <td>0.686770</td>\n",
       "      <td>0.650092</td>\n",
       "    </tr>\n",
       "    <tr>\n",
       "      <td>10</td>\n",
       "      <td>0.256200</td>\n",
       "      <td>1.021806</td>\n",
       "      <td>0.622000</td>\n",
       "      <td>0.618881</td>\n",
       "      <td>0.688716</td>\n",
       "      <td>0.651934</td>\n",
       "    </tr>\n",
       "  </tbody>\n",
       "</table><p>"
      ],
      "text/plain": [
       "<IPython.core.display.HTML object>"
      ]
     },
     "metadata": {},
     "output_type": "display_data"
    },
    {
     "name": "stdout",
     "output_type": "stream",
     "text": [
      "Evaluating model...\n"
     ]
    },
    {
     "data": {
      "text/html": [
       "\n",
       "    <div>\n",
       "      \n",
       "      <progress value='17' max='17' style='width:300px; height:20px; vertical-align: middle;'></progress>\n",
       "      [17/17 00:01]\n",
       "    </div>\n",
       "    "
      ],
      "text/plain": [
       "<IPython.core.display.HTML object>"
      ]
     },
     "metadata": {},
     "output_type": "display_data"
    },
    {
     "name": "stderr",
     "output_type": "stream",
     "text": [
      "/home/nathanhuey/miniconda3/envs/cs260d/lib/python3.12/site-packages/transformers/modeling_utils.py:2773: UserWarning: `save_config` is deprecated and will be removed in v5 of Transformers. Use `is_main_process` instead.\n",
      "  warnings.warn(\n"
     ]
    },
    {
     "name": "stdout",
     "output_type": "stream",
     "text": [
      "statsstats\n",
      "[]\n",
      "statsstats\n"
     ]
    },
    {
     "name": "stderr",
     "output_type": "stream",
     "text": [
      "Some weights of RobertaForSequenceClassification were not initialized from the model checkpoint at FacebookAI/roberta-large and are newly initialized: ['classifier.dense.bias', 'classifier.dense.weight', 'classifier.out_proj.bias', 'classifier.out_proj.weight']\n",
      "You should probably TRAIN this model on a down-stream task to be able to use it for predictions and inference.\n"
     ]
    },
    {
     "name": "stdout",
     "output_type": "stream",
     "text": [
      "Starting training...\n"
     ]
    },
    {
     "name": "stderr",
     "output_type": "stream",
     "text": [
      "/home/nathanhuey/miniconda3/envs/cs260d/lib/python3.12/site-packages/transformers/training_args.py:1568: FutureWarning: `evaluation_strategy` is deprecated and will be removed in version 4.46 of 🤗 Transformers. Use `eval_strategy` instead\n",
      "  warnings.warn(\n",
      "/tmp/ipykernel_1717/2272108582.py:92: FutureWarning: `tokenizer` is deprecated and will be removed in version 5.0.0 for `Trainer.__init__`. Use `processing_class` instead.\n",
      "  trainer = Trainer(\n"
     ]
    },
    {
     "data": {
      "text/html": [
       "\n",
       "    <div>\n",
       "      \n",
       "      <progress value='3340' max='3340' style='width:300px; height:20px; vertical-align: middle;'></progress>\n",
       "      [3340/3340 45:14, Epoch 10/10]\n",
       "    </div>\n",
       "    <table border=\"1\" class=\"dataframe\">\n",
       "  <thead>\n",
       " <tr style=\"text-align: left;\">\n",
       "      <th>Epoch</th>\n",
       "      <th>Training Loss</th>\n",
       "      <th>Validation Loss</th>\n",
       "      <th>Accuracy</th>\n",
       "      <th>Precision</th>\n",
       "      <th>Recall</th>\n",
       "      <th>F1</th>\n",
       "    </tr>\n",
       "  </thead>\n",
       "  <tbody>\n",
       "    <tr>\n",
       "      <td>1</td>\n",
       "      <td>0.642400</td>\n",
       "      <td>0.625480</td>\n",
       "      <td>0.661000</td>\n",
       "      <td>0.662942</td>\n",
       "      <td>0.692607</td>\n",
       "      <td>0.677450</td>\n",
       "    </tr>\n",
       "    <tr>\n",
       "      <td>2</td>\n",
       "      <td>0.600100</td>\n",
       "      <td>0.641456</td>\n",
       "      <td>0.635000</td>\n",
       "      <td>0.622735</td>\n",
       "      <td>0.735409</td>\n",
       "      <td>0.674398</td>\n",
       "    </tr>\n",
       "    <tr>\n",
       "      <td>3</td>\n",
       "      <td>0.583900</td>\n",
       "      <td>0.669327</td>\n",
       "      <td>0.666000</td>\n",
       "      <td>0.723881</td>\n",
       "      <td>0.566148</td>\n",
       "      <td>0.635371</td>\n",
       "    </tr>\n",
       "    <tr>\n",
       "      <td>4</td>\n",
       "      <td>0.473200</td>\n",
       "      <td>0.705546</td>\n",
       "      <td>0.643000</td>\n",
       "      <td>0.631933</td>\n",
       "      <td>0.731518</td>\n",
       "      <td>0.678088</td>\n",
       "    </tr>\n",
       "    <tr>\n",
       "      <td>5</td>\n",
       "      <td>0.383800</td>\n",
       "      <td>0.779393</td>\n",
       "      <td>0.623000</td>\n",
       "      <td>0.606202</td>\n",
       "      <td>0.760700</td>\n",
       "      <td>0.674720</td>\n",
       "    </tr>\n",
       "    <tr>\n",
       "      <td>6</td>\n",
       "      <td>0.377200</td>\n",
       "      <td>0.855633</td>\n",
       "      <td>0.635000</td>\n",
       "      <td>0.628227</td>\n",
       "      <td>0.710117</td>\n",
       "      <td>0.666667</td>\n",
       "    </tr>\n",
       "    <tr>\n",
       "      <td>7</td>\n",
       "      <td>0.293500</td>\n",
       "      <td>1.016569</td>\n",
       "      <td>0.619000</td>\n",
       "      <td>0.613675</td>\n",
       "      <td>0.698444</td>\n",
       "      <td>0.653321</td>\n",
       "    </tr>\n",
       "    <tr>\n",
       "      <td>8</td>\n",
       "      <td>0.236500</td>\n",
       "      <td>1.179861</td>\n",
       "      <td>0.625000</td>\n",
       "      <td>0.635478</td>\n",
       "      <td>0.634241</td>\n",
       "      <td>0.634859</td>\n",
       "    </tr>\n",
       "    <tr>\n",
       "      <td>9</td>\n",
       "      <td>0.272200</td>\n",
       "      <td>1.247146</td>\n",
       "      <td>0.619000</td>\n",
       "      <td>0.614065</td>\n",
       "      <td>0.696498</td>\n",
       "      <td>0.652689</td>\n",
       "    </tr>\n",
       "    <tr>\n",
       "      <td>10</td>\n",
       "      <td>0.137000</td>\n",
       "      <td>1.358072</td>\n",
       "      <td>0.616000</td>\n",
       "      <td>0.614035</td>\n",
       "      <td>0.680934</td>\n",
       "      <td>0.645756</td>\n",
       "    </tr>\n",
       "  </tbody>\n",
       "</table><p>"
      ],
      "text/plain": [
       "<IPython.core.display.HTML object>"
      ]
     },
     "metadata": {},
     "output_type": "display_data"
    },
    {
     "name": "stdout",
     "output_type": "stream",
     "text": [
      "Evaluating model...\n"
     ]
    },
    {
     "data": {
      "text/html": [
       "\n",
       "    <div>\n",
       "      \n",
       "      <progress value='17' max='17' style='width:300px; height:20px; vertical-align: middle;'></progress>\n",
       "      [17/17 00:04]\n",
       "    </div>\n",
       "    "
      ],
      "text/plain": [
       "<IPython.core.display.HTML object>"
      ]
     },
     "metadata": {},
     "output_type": "display_data"
    },
    {
     "name": "stderr",
     "output_type": "stream",
     "text": [
      "/home/nathanhuey/miniconda3/envs/cs260d/lib/python3.12/site-packages/transformers/modeling_utils.py:2773: UserWarning: `save_config` is deprecated and will be removed in v5 of Transformers. Use `is_main_process` instead.\n",
      "  warnings.warn(\n"
     ]
    },
    {
     "name": "stdout",
     "output_type": "stream",
     "text": [
      "statsstats\n",
      "[]\n",
      "statsstats\n"
     ]
    }
   ],
   "source": [
    "for model_name in chain(*MODELS.values()):\n",
    "    try:\n",
    "        train_and_evaluate_model(model_name, \"toxic_spans\")\n",
    "    except Exception as e:\n",
    "        print(f\"model_name {model_name} failed with error: {e}\")"
   ]
  },
  {
   "cell_type": "code",
   "execution_count": 26,
   "id": "490645b7-4f24-4265-bd23-fec7e1995fe4",
   "metadata": {},
   "outputs": [
    {
     "data": {
      "text/html": [
       "<table id=\"itables_404774ec_e517_419c_ae63_7df57973bd75\" class=\"display nowrap\" data-quarto-disable-processing=\"true\" style=\"table-layout:auto;width:auto;margin:auto;caption-side:bottom\">\n",
       "<thead>\n",
       "    <tr style=\"text-align: right;\">\n",
       "      \n",
       "      <th>eval_loss</th>\n",
       "      <th>eval_accuracy</th>\n",
       "      <th>eval_precision</th>\n",
       "      <th>eval_recall</th>\n",
       "      <th>eval_f1</th>\n",
       "      <th>eval_runtime</th>\n",
       "      <th>eval_samples_per_second</th>\n",
       "      <th>eval_steps_per_second</th>\n",
       "      <th>epoch</th>\n",
       "      <th>model_name</th>\n",
       "      <th>dataset_name</th>\n",
       "    </tr>\n",
       "  </thead><tbody><tr>\n",
       "<td style=\"vertical-align:middle; text-align:left\">\n",
       "<div style=\"float:left; margin-right: 10px;\">\n",
       "<a href=https://mwouts.github.io/itables/><svg class=\"main-svg\" xmlns=\"http://www.w3.org/2000/svg\" xmlns:xlink=\"http://www.w3.org/1999/xlink\"\n",
       "width=\"64\" viewBox=\"0 0 500 400\" style=\"font-family: 'Droid Sans', sans-serif;\">\n",
       "    <g style=\"fill:#d9d7fc\">\n",
       "        <path d=\"M100,400H500V357H100Z\" />\n",
       "        <path d=\"M100,300H400V257H100Z\" />\n",
       "        <path d=\"M0,200H400V157H0Z\" />\n",
       "        <path d=\"M100,100H500V57H100Z\" />\n",
       "        <path d=\"M100,350H500V307H100Z\" />\n",
       "        <path d=\"M100,250H400V207H100Z\" />\n",
       "        <path d=\"M0,150H400V107H0Z\" />\n",
       "        <path d=\"M100,50H500V7H100Z\" />\n",
       "    </g>\n",
       "    <g style=\"fill:#1a1366;stroke:#1a1366;\">\n",
       "   <rect x=\"100\" y=\"7\" width=\"400\" height=\"43\">\n",
       "    <animate\n",
       "      attributeName=\"width\"\n",
       "      values=\"0;400;0\"\n",
       "      dur=\"5s\"\n",
       "      repeatCount=\"indefinite\" />\n",
       "      <animate\n",
       "      attributeName=\"x\"\n",
       "      values=\"100;100;500\"\n",
       "      dur=\"5s\"\n",
       "      repeatCount=\"indefinite\" />\n",
       "  </rect>\n",
       "        <rect x=\"0\" y=\"107\" width=\"400\" height=\"43\">\n",
       "    <animate\n",
       "      attributeName=\"width\"\n",
       "      values=\"0;400;0\"\n",
       "      dur=\"3.5s\"\n",
       "      repeatCount=\"indefinite\" />\n",
       "    <animate\n",
       "      attributeName=\"x\"\n",
       "      values=\"0;0;400\"\n",
       "      dur=\"3.5s\"\n",
       "      repeatCount=\"indefinite\" />\n",
       "  </rect>\n",
       "        <rect x=\"100\" y=\"207\" width=\"300\" height=\"43\">\n",
       "    <animate\n",
       "      attributeName=\"width\"\n",
       "      values=\"0;300;0\"\n",
       "      dur=\"3s\"\n",
       "      repeatCount=\"indefinite\" />\n",
       "    <animate\n",
       "      attributeName=\"x\"\n",
       "      values=\"100;100;400\"\n",
       "      dur=\"3s\"\n",
       "      repeatCount=\"indefinite\" />\n",
       "  </rect>\n",
       "        <rect x=\"100\" y=\"307\" width=\"400\" height=\"43\">\n",
       "    <animate\n",
       "      attributeName=\"width\"\n",
       "      values=\"0;400;0\"\n",
       "      dur=\"4s\"\n",
       "      repeatCount=\"indefinite\" />\n",
       "      <animate\n",
       "      attributeName=\"x\"\n",
       "      values=\"100;100;500\"\n",
       "      dur=\"4s\"\n",
       "      repeatCount=\"indefinite\" />\n",
       "  </rect>\n",
       "        <g style=\"fill:transparent;stroke-width:8; stroke-linejoin:round\" rx=\"5\">\n",
       "            <g transform=\"translate(45 50) rotate(-45)\">\n",
       "                <circle r=\"33\" cx=\"0\" cy=\"0\" />\n",
       "                <rect x=\"-8\" y=\"32\" width=\"16\" height=\"30\" />\n",
       "            </g>\n",
       "\n",
       "            <g transform=\"translate(450 152)\">\n",
       "                <polyline points=\"-15,-20 -35,-20 -35,40 25,40 25,20\" />\n",
       "                <rect x=\"-15\" y=\"-40\" width=\"60\" height=\"60\" />\n",
       "            </g>\n",
       "\n",
       "            <g transform=\"translate(50 352)\">\n",
       "                <polygon points=\"-35,-5 0,-40 35,-5\" />\n",
       "                <polygon points=\"-35,10 0,45 35,10\" />\n",
       "            </g>\n",
       "\n",
       "            <g transform=\"translate(75 250)\">\n",
       "                <polyline points=\"-30,30 -60,0 -30,-30\" />\n",
       "                <polyline points=\"0,30 -30,0 0,-30\" />\n",
       "            </g>\n",
       "\n",
       "            <g transform=\"translate(425 250) rotate(180)\">\n",
       "                <polyline points=\"-30,30 -60,0 -30,-30\" />\n",
       "                <polyline points=\"0,30 -30,0 0,-30\" />\n",
       "            </g>\n",
       "        </g>\n",
       "    </g>\n",
       "</svg>\n",
       "</a>\n",
       "</div>\n",
       "<div>\n",
       "Loading ITables v2.2.3 from the internet...\n",
       "(need <a href=https://mwouts.github.io/itables/troubleshooting.html>help</a>?)</td>\n",
       "</div>\n",
       "</tr></tbody>\n",
       "</table>\n",
       "<link href=\"https://www.unpkg.com/dt_for_itables@2.0.13/dt_bundle.css\" rel=\"stylesheet\">\n",
       "<script type=\"module\">\n",
       "    import {DataTable, jQuery as $} from 'https://www.unpkg.com/dt_for_itables@2.0.13/dt_bundle.js';\n",
       "\n",
       "    document.querySelectorAll(\"#itables_404774ec_e517_419c_ae63_7df57973bd75:not(.dataTable)\").forEach(table => {\n",
       "        if (!(table instanceof HTMLTableElement))\n",
       "            return;\n",
       "\n",
       "        // Define the table data\n",
       "        const data = [[1.021806, 0.622, 0.618881, 0.688716, 0.651934, 1.8156, 550.774, 9.363, 10.0, \"FacebookAI/roberta-base\", \"toxic_spans\"], [1.358072, 0.616, 0.614035, 0.680934, 0.645756, 5.3957, 185.334, 3.151, 10.0, \"FacebookAI/roberta-large\", \"toxic_spans\"], [0.706029, 0.642, 0.635889, 0.710117, 0.670956, 0.7527, 1328.634, 22.587, 10.0, \"JackBAI/roberta-medium\", \"toxic_spans\"], [0.991555, 0.629, 0.649269, 0.605058, 0.626385, 1.8288, 546.814, 9.296, 10.0, \"google-bert/bert-base-uncased\", \"toxic_spans\"], [1.483014, 0.638, 0.642322, 0.667315, 0.65458, 5.4338, 184.034, 3.129, 10.0, \"google-bert/bert-large-uncased\", \"toxic_spans\"], [0.739692, 0.66, 0.655914, 0.712062, 0.682836, 0.7395, 1352.18, 22.987, 10.0, \"lyeonii/bert-medium\", \"toxic_spans\"], [0.705375, 0.635, 0.616588, 0.766537, 0.683435, 0.4449, 2247.694, 38.211, 10.0, \"lyeonii/bert-small\", \"toxic_spans\"], [0.655651, 0.608, 0.605536, 0.680934, 0.641026, 0.1847, 5413.374, 92.027, 10.0, \"lyeonii/bert-tiny\", \"toxic_spans\"]];\n",
       "\n",
       "        // Define the dt_args\n",
       "        let dt_args = {\"layout\": {\"topStart\": null, \"topEnd\": null, \"bottomStart\": null, \"bottomEnd\": null}, \"order\": [], \"warn_on_selected_rows_not_rendered\": true};\n",
       "        dt_args[\"data\"] = data;\n",
       "\n",
       "        \n",
       "        new DataTable(table, dt_args);\n",
       "    });\n",
       "</script>\n"
      ],
      "text/plain": [
       "<IPython.core.display.HTML object>"
      ]
     },
     "metadata": {},
     "output_type": "display_data"
    }
   ],
   "source": [
    "evals = duckdb.read_parquet(\"/home/nathanhuey/coding/ucla/cs260d/results/*/EvalStats.parquet\").df()\n",
    "show(evals)"
   ]
  },
  {
   "cell_type": "code",
   "execution_count": 50,
   "id": "9d22d671-bbcc-4425-b013-d614abc4abe5",
   "metadata": {},
   "outputs": [
    {
     "data": {
      "image/png": "[encoded data removed]",
      "text/plain": [
       "<Figure size 640x480 with 1 Axes>"
      ]
     },
     "metadata": {},
     "output_type": "display_data"
    }
   ],
   "source": [
    "rows = evals[evals[\"dataset_name\"] == \"toxic_spans\"]\n",
    "plt.barh(\n",
    "    y=evals[\"model_name\"], \n",
    "    width=rows[\"eval_accuracy\"]\n",
    ")\n",
    "plt.yticks(rotation=30)\n",
    "plt.title(\"Evaluation Accuracy per Model on dataset `toxic_spans`\")\n",
    "plt.xlabel(\"evaluation accuracy\")\n",
    "plt.show()"
   ]
  },
  {
   "cell_type": "code",
   "execution_count": 51,
   "id": "ca3b8fa5-e89c-4ef7-a6e9-1cc2bd278cd3",
   "metadata": {},
   "outputs": [
    {
     "data": {
      "image/png": "[encoded data removed]",
      "text/plain": [
       "<Figure size 640x480 with 1 Axes>"
      ]
     },
     "metadata": {},
     "output_type": "display_data"
    }
   ],
   "source": [
    "rows = evals[evals[\"dataset_name\"] == \"toxic_spans\"]\n",
    "plt.barh(\n",
    "    y=evals[\"model_name\"], \n",
    "    width=rows[\"eval_precision\"]\n",
    ")\n",
    "plt.yticks(rotation=30)\n",
    "plt.title(\"Evaluation Precision per Model on dataset `toxic_spans`\")\n",
    "plt.xlabel(\"evaluation precision\")\n",
    "plt.show()"
   ]
  },
  {
   "cell_type": "code",
   "execution_count": 52,
   "id": "ef4e4ced-b634-400f-80d8-1c9a670146e4",
   "metadata": {},
   "outputs": [
    {
     "data": {
      "image/png": "[encoded data removed]",
      "text/plain": [
       "<Figure size 640x480 with 1 Axes>"
      ]
     },
     "metadata": {},
     "output_type": "display_data"
    }
   ],
   "source": [
    "rows = evals[evals[\"dataset_name\"] == \"toxic_spans\"]\n",
    "plt.barh(\n",
    "    y=evals[\"model_name\"], \n",
    "    width=rows[\"eval_recall\"]\n",
    ")\n",
    "plt.yticks(rotation=30)\n",
    "plt.title(\"Evaluation Recall per Model on dataset `toxic_spans`\")\n",
    "plt.xlabel(\"evaluation recall\")\n",
    "plt.show()"
   ]
  },
  {
   "cell_type": "code",
   "execution_count": 2,
   "id": "79ce97d6-2b8a-48ea-9820-9748e6d671a4",
   "metadata": {},
   "outputs": [
    {
     "ename": "NameError",
     "evalue": "name 'chain' is not defined",
     "output_type": "error",
     "traceback": [
      "\u001b[0;31m---------------------------------------------------------------------------\u001b[0m",
      "\u001b[0;31mNameError\u001b[0m                                 Traceback (most recent call last)",
      "Cell \u001b[0;32mIn[2], line 1\u001b[0m\n\u001b[0;32m----> 1\u001b[0m \u001b[38;5;28;01mfor\u001b[39;00m model_name \u001b[38;5;129;01min\u001b[39;00m \u001b[43mchain\u001b[49m(\u001b[38;5;241m*\u001b[39mMODELS\u001b[38;5;241m.\u001b[39mvalues()):\n\u001b[1;32m      2\u001b[0m     \u001b[38;5;28;01mtry\u001b[39;00m:\n\u001b[1;32m      3\u001b[0m         train_and_evaluate_model(model_name, \u001b[38;5;124m\"\u001b[39m\u001b[38;5;124mcad\u001b[39m\u001b[38;5;124m\"\u001b[39m)\n",
      "\u001b[0;31mNameError\u001b[0m: name 'chain' is not defined"
     ]
    }
   ],
   "source": [
    "for model_name in chain(*MODELS.values()):\n",
    "    try:\n",
    "        train_and_evaluate_model(model_name, \"cad\")\n",
    "    except Exception as e:\n",
    "        print(f\"model_name {model_name} failed with error: {e}\")"
   ]
  },
  {
   "cell_type": "code",
   "execution_count": null,
   "id": "236080f6-ad7a-4a81-aa5a-fd6daf96cac4",
   "metadata": {},
   "outputs": [],
   "source": []
  }
 ],
 "metadata": {
  "kernelspec": {
   "display_name": "Python 3 (ipykernel)",
   "language": "python",
   "name": "python3"
  },
  "language_info": {
   "codemirror_mode": {
    "name": "ipython",
    "version": 3
   },
   "file_extension": ".py",
   "mimetype": "text/x-python",
   "name": "python",
   "nbconvert_exporter": "python",
   "pygments_lexer": "ipython3",
   "version": "3.13.0"
  }
 },
 "nbformat": 4,
 "nbformat_minor": 5
}
